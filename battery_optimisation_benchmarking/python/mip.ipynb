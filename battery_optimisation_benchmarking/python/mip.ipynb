{
 "cells": [
  {
   "cell_type": "markdown",
   "id": "dc5faeba-75ca-4806-b8bc-7aa2ed84926e",
   "metadata": {},
   "source": [
    "# python-mip Battery Optimisation"
   ]
  },
  {
   "cell_type": "code",
   "execution_count": 1,
   "id": "33b627ea-5f6f-4477-9b50-724ad5c08af1",
   "metadata": {},
   "outputs": [],
   "source": [
    "from pathlib import Path\n",
    "from datetime import timedelta\n",
    "import timeit\n",
    "\n",
    "from mip import *\n",
    "import numpy as np\n",
    "import pandas as pd\n",
    "import xarray as xr\n",
    "import matplotlib.pyplot as plt"
   ]
  },
  {
   "cell_type": "code",
   "execution_count": 2,
   "id": "72477e5a-91e7-4020-99cf-3ef9df74ef3d",
   "metadata": {},
   "outputs": [
    {
     "data": {
      "text/html": [
       "\n",
       "                <script type=\"application/javascript\" id=\"jupyter_black\">\n",
       "                (function() {\n",
       "                    if (window.IPython === undefined) {\n",
       "                        return\n",
       "                    }\n",
       "                    var msg = \"WARNING: it looks like you might have loaded \" +\n",
       "                        \"jupyter_black in a non-lab notebook with \" +\n",
       "                        \"`is_lab=True`. Please double check, and if \" +\n",
       "                        \"loading with `%load_ext` please review the README!\"\n",
       "                    console.log(msg)\n",
       "                    alert(msg)\n",
       "                })()\n",
       "                </script>\n",
       "                "
      ],
      "text/plain": [
       "<IPython.core.display.HTML object>"
      ]
     },
     "metadata": {},
     "output_type": "display_data"
    }
   ],
   "source": [
    "%load_ext jupyter_black"
   ]
  },
  {
   "cell_type": "markdown",
   "id": "b21c9360-155d-41b2-a163-c2d9574ab019",
   "metadata": {
    "tags": []
   },
   "source": [
    "## NSW Energy Price Dec 2021"
   ]
  },
  {
   "cell_type": "code",
   "execution_count": 3,
   "id": "6f01dbfc-8dc5-476d-87a8-500ddda24578",
   "metadata": {},
   "outputs": [
    {
     "data": {
      "text/plain": [
       "<AxesSubplot: xlabel='datetime'>"
      ]
     },
     "execution_count": 3,
     "metadata": {},
     "output_type": "execute_result"
    },
    {
     "data": {
      "image/png": "[encoded data removed]",
      "text/plain": [
       "<Figure size 640x480 with 1 Axes>"
      ]
     },
     "metadata": {},
     "output_type": "display_data"
    }
   ],
   "source": [
    "df = pd.read_parquet(Path.cwd().parent / \"data\")\n",
    "df[\"SETTLEMENTDATE\"] = pd.to_datetime(df[\"SETTLEMENTDATE\"])\n",
    "df = df.rename(columns={\"SETTLEMENTDATE\": \"datetime\", \"RRP\": \"energy_price\"})\n",
    "df = df.query(\"INTERVENTION==0 and REGIONID=='NSW1'\")\n",
    "nsw_energy_price = df.set_index(\"datetime\")[\"energy_price\"]\n",
    "nsw_energy_price.plot()"
   ]
  },
  {
   "cell_type": "markdown",
   "id": "10a7f108-b059-431d-aab5-32536a13b5c8",
   "metadata": {},
   "source": [
    "## Formulating the problem\n",
    "\n",
    "Our mixed-integer linear program (MILP) formulation has one binary variable:\n",
    "\n",
    "\\begin{aligned}\n",
    "\\max_{t} \\quad & \\sum_{t=0}^T{\\tau\\lambda_t(p_t-q_t)}\\\\\n",
    "\\textrm{s.t.} \\quad & u_t \\in \\{0,1\\}    \\\\\n",
    "& 0 \\leq p_t \\leq \\bar{p}\\\\\n",
    "& 0 \\leq q_t \\leq \\bar{p} \\\\\n",
    "& p_t - \\bar{p}\\left(1-u_t\\right) \\leq 0\\\\\n",
    "& q_t - \\bar{p}u_t \\leq 0\\\\\n",
    "& \\underline{e} \\leq e_t \\leq \\bar{e}    \\\\\n",
    "& e_t-e_{t-1}- \\left( q_t\\eta_{charge}\\tau\\right)+\\frac{p_t\\tau}{\\eta_{discharge}} = 0\\\\\n",
    "& e_0 = 0.5\\bar{e}\\\\\n",
    "\\end{aligned}\n",
    "\n",
    "where:\n",
    "- $\\tau=\\frac{1}{12} \\textrm{hours}$\n",
    "- $p_t$ corresponds to MW discharge at time $t$\n",
    "- $q_t$ corresponds to MW charge at time $t$\n",
    "- $u_t=1$ indicates charging, $u_t=0$ indicates discharging (*charge state*)\n",
    "- $\\bar{p}$ corresponds to the max power capacity in MW\n",
    "- $\\underline{e}$ and $\\bar{e}$ corresponds to minimum and maximum state-of-charge limits, respectively\n",
    "- $\\lambda_t$ corresponds to the energy price in $/MWh at time $t$\n",
    "- $\\eta$ corresponds to efficiency (one term for charging and one term for discharging)"
   ]
  },
  {
   "cell_type": "code",
   "execution_count": 4,
   "id": "1aa7f929-c1ad-4fc8-af70-eb24fa9f26a6",
   "metadata": {},
   "outputs": [],
   "source": [
    "def create_mip_model(nsw_energy_price: pd.DataFrame, solver: str, verbose=1):\n",
    "    power_cap = 30.0  # MW\n",
    "    energy_cap = 30.0  # MWh\n",
    "    soc_lower_limit = 0.1 * energy_cap  # MWh\n",
    "    soc_upper_limit = 0.9 * energy_cap  # MWh\n",
    "    charge_eff = 0.9  # unitless\n",
    "    discharge_eff = 0.9  # unitless\n",
    "    tau = 5.0 / 60.0  # minutes per hour\n",
    "    # initial conditions\n",
    "    initial_soc_mwh = 0.5 * energy_cap  # MWh\n",
    "\n",
    "    m = Model(sense=MAXIMIZE, solver_name=solver)\n",
    "    m.verbose = verbose\n",
    "    # variables\n",
    "    discharge_mw = [\n",
    "        m.add_var(name=f\"discharge_mw[{i}]\", lb=0.0, ub=power_cap)\n",
    "        for i in range(len(nsw_energy_price))\n",
    "    ]\n",
    "    charge_mw = [\n",
    "        m.add_var(name=f\"charge_mw[{i}]\", lb=0.0, ub=power_cap)\n",
    "        for i in range(len(nsw_energy_price))\n",
    "    ]\n",
    "    charge_state = [\n",
    "        m.add_var(name=f\"charge_state[{i}]\", var_type=BINARY)\n",
    "        for i in range(len(nsw_energy_price))\n",
    "    ]\n",
    "    soc_mwh = [\n",
    "        m.add_var(name=f\"soc_mwh[{i}]\", lb=soc_lower_limit, ub=soc_upper_limit)\n",
    "        for i in range(len(nsw_energy_price))\n",
    "    ]\n",
    "\n",
    "    # state of operation constraints\n",
    "    for t in range(len(nsw_energy_price)):\n",
    "        m += (\n",
    "            discharge_mw[t] - power_cap * (1 - charge_state[t]) <= 0.0,\n",
    "            f\"discharging-operation[{t}]\",\n",
    "        )\n",
    "        m += (\n",
    "            charge_mw[t] - power_cap * charge_state[t] <= 0.0,\n",
    "            f\"charging-operation[{t}]\",\n",
    "        )\n",
    "\n",
    "    # intertemporal energy balance constraints\n",
    "    for t in range(1, len(nsw_energy_price)):\n",
    "        m += (\n",
    "            soc_mwh[t]\n",
    "            - soc_mwh[t - 1]\n",
    "            - charge_mw[t] * charge_eff * tau\n",
    "            + discharge_mw[t] / discharge_eff * tau\n",
    "            == 0.0,\n",
    "            f\"intertemp_soc[{t}]\",\n",
    "        )\n",
    "    # initial SoC constraint\n",
    "    m += soc_mwh[0] == 0.5 * energy_cap\n",
    "    # objective - add negative sign as linopy only permits minimisation\n",
    "    m.objective = xsum(\n",
    "        nsw_energy_price[t] * tau * (discharge_mw[t] - charge_mw[t])\n",
    "        for t in range(len(nsw_energy_price))\n",
    "    )\n",
    "    m.optimize()\n",
    "    return m"
   ]
  },
  {
   "cell_type": "code",
   "execution_count": 5,
   "id": "c4192d3a-e956-4df6-9190-af9e6f9bd2d2",
   "metadata": {},
   "outputs": [
    {
     "name": "stdout",
     "output_type": "stream",
     "text": [
      "Set parameter Username\n",
      "Academic license - for non-commercial use only - expires 2023-06-09\n",
      "Set parameter NodeLimit to value 1073741824\n",
      "Set parameter SolutionLimit to value 1073741824\n",
      "Set parameter IntFeasTol to value 1e-06\n",
      "Set parameter Method to value 3\n",
      "Gurobi Optimizer version 9.5.1 build v9.5.1rc2 (linux64)\n",
      "Thread count: 10 physical cores, 20 logical processors, using up to 20 threads\n",
      "Optimize a model with 26784 rows, 35712 columns and 71421 nonzeros\n",
      "Model fingerprint: 0xcbbd520e\n",
      "Variable types: 26784 continuous, 8928 integer (8928 binary)\n",
      "Coefficient statistics:\n",
      "  Matrix range     [7e-02, 3e+01]\n",
      "  Objective range  [8e-07, 1e+02]\n",
      "  Bounds range     [1e+00, 3e+01]\n",
      "  RHS range        [2e+01, 3e+01]\n",
      "Found heuristic solution: objective 988.7050230\n",
      "Presolve removed 6 rows and 7 columns\n",
      "Presolve time: 0.06s\n",
      "Presolved: 26778 rows, 35705 columns, 71409 nonzeros\n",
      "Variable types: 26778 continuous, 8927 integer (8927 binary)\n",
      "\n",
      "Concurrent LP optimizer: primal simplex, dual simplex, and barrier\n",
      "Showing barrier log only...\n",
      "\n",
      "Root barrier log...\n",
      "\n",
      "Ordering time: 0.00s\n",
      "\n",
      "Barrier statistics:\n",
      " AA' NZ     : 1.785e+04\n",
      " Factor NZ  : 2.945e+05 (roughly 20 MB of memory)\n",
      " Factor Ops : 6.196e+06 (less than 1 second per iteration)\n",
      " Threads    : 8\n",
      "\n",
      "                  Objective                Residual\n",
      "Iter       Primal          Dual         Primal    Dual     Compl     Time\n",
      "   0  -7.61067482e+05  7.27143442e+07  1.47e-01 2.67e+01  1.75e+03     0s\n",
      "   1  -1.25377214e+05  1.84871552e+07  2.03e-04 4.55e-13  3.07e+02     0s\n",
      "   2  -9.01055373e+04  1.41815227e+06  4.02e-06 1.19e+00  2.48e+01     0s\n",
      "   3   3.22641364e+04  4.17457877e+05  8.77e-07 1.39e+00  6.35e+00     0s\n",
      "   4   1.04002677e+05  2.43325249e+05  3.33e-07 3.22e-01  2.31e+00     0s\n",
      "   5   1.28209632e+05  2.10084370e+05  2.06e-07 1.91e-01  1.36e+00     0s\n",
      "   6   1.45922251e+05  1.92239910e+05  1.19e-07 8.75e-02  7.72e-01     0s\n",
      "   7   1.57000569e+05  1.82815094e+05  6.66e-08 3.38e-02  4.29e-01     0s\n",
      "   8   1.66375024e+05  1.77688586e+05  2.32e-08 1.64e-02  1.90e-01     0s\n",
      "   9   1.68333109e+05  1.76228441e+05  1.46e-08 1.17e-02  1.33e-01     0s\n",
      "  10   1.69912464e+05  1.73838246e+05  7.96e-09 7.19e-03  6.56e-02     0s\n",
      "  11   1.70745746e+05  1.73220553e+05  4.52e-09 2.80e-03  4.15e-02     0s\n",
      "  12   1.71331027e+05  1.72546600e+05  2.15e-09 1.07e-03  2.03e-02     0s\n",
      "  13   1.71752328e+05  1.72085734e+05  5.16e-10 3.81e-04  5.59e-03     0s\n",
      "  14   1.71871884e+05  1.71950839e+05  8.56e-11 1.87e-05  1.32e-03     0s\n",
      "  15   1.71896767e+05  1.71922379e+05  1.40e-11 2.70e-05  4.32e-04     0s\n",
      "  16   1.71901446e+05  1.71907151e+05  1.62e-12 2.41e-13  9.59e-05     0s\n",
      "\n",
      "Barrier performed 16 iterations in 0.38 seconds (0.26 work units)\n",
      "Barrier solve interrupted - model solved by another algorithm\n",
      "\n",
      "\n",
      "Solved with primal simplex\n",
      "\n",
      "Root relaxation: objective 1.719023e+05, 13246 iterations, 0.71 seconds (0.46 work units)\n",
      "\n",
      "    Nodes    |    Current Node    |     Objective Bounds      |     Work\n",
      " Expl Unexpl |  Obj  Depth IntInf | Incumbent    BestBd   Gap | It/Node Time\n",
      "\n",
      "     0     0 171902.286    0   17  988.70502 171902.286      -     -    0s\n",
      "H    0     0                    171880.66125 171902.286  0.01%     -    0s\n",
      "     0     0 171894.167    0    4 171880.661 171894.167  0.01%     -    1s\n",
      "\n",
      "Cutting planes:\n",
      "  Gomory: 12\n",
      "  MIR: 30\n",
      "  Flow cover: 23\n",
      "  Relax-and-lift: 3\n",
      "\n",
      "Explored 1 nodes (13335 simplex iterations) in 1.04 seconds (0.64 work units)\n",
      "Thread count was 20 (of 20 available processors)\n",
      "\n",
      "Solution count 2: 171881 988.705 \n",
      "\n",
      "Optimal solution found (tolerance 1.00e-04)\n",
      "Best objective 1.718806612495e+05, best bound 1.718941666822e+05, gap 0.0079%\n"
     ]
    }
   ],
   "source": [
    "model = create_mip_model(nsw_energy_price, GUROBI)"
   ]
  },
  {
   "cell_type": "code",
   "execution_count": 6,
   "id": "33344e2b-6e16-4932-99de-626e556c9fef",
   "metadata": {},
   "outputs": [
    {
     "name": "stdout",
     "output_type": "stream",
     "text": [
      "Welcome to the CBC MILP Solver \n",
      "Version: Trunk\n",
      "Build Date: Oct 24 2021 \n",
      "\n",
      "Starting solution of the Linear programming relaxation problem using Dual Simplex\n",
      "\n",
      "Coin0506I Presolve 26777 (-7) rows, 35703 (-9) columns and 71406 (-15) elements\n",
      "Clp0014I Perturbing problem by 0.001% of 0.2875244 - largest nonzero change 0.00010028454 ( 1180.479%) - largest zero change 5.014186e-05\n",
      "Clp0000I Optimal - objective value 171902.29\n",
      "Coin0511I After Postsolve, objective 171902.29, infeasibilities - dual 0 (0), primal 0 (0)\n",
      "Clp0032I Optimal objective 171902.2858 - 12913 iterations time 0.222, Presolve 0.04\n",
      "\n",
      "Starting MIP optimization\n",
      "Cgl0004I processed model has 26777 rows, 35703 columns (8927 integer (8927 of which binary)) and 71406 elements\n",
      "Coin3009W Conflict graph built in 0.005 seconds, density: 0.000%\n",
      "Cgl0015I Clique Strengthening extended 0 cliques, 0 were dominated\n",
      "Cbc0045I Nauty sparseSpace 552374 affine 62310 coefficient count 124791\n",
      "Cbc0045I Nauty: 124780 orbits (3 useful covering 6 variables), 1 generators, group size: 2 - sparse size 552374 - took 6.09942 seconds\n",
      "Cbc0038I Initial state - 194 integers unsatisfied sum - 53.3904\n",
      "Cbc0038I Pass   1: (6.46 seconds) suminf.    0.00000 (0) obj. -171297 iterations 2157\n",
      "Cbc0038I Solution found of -171297\n",
      "Cbc0038I Relaxing continuous gives -171576\n",
      "Cbc0038I Before mini branch and bound, 8733 integers at bound fixed and 20430 continuous\n",
      "Cbc0038I Full problem 26777 rows 35703 columns, reduced to 19 rows 27 columns\n",
      "Cbc0038I Mini branch and bound improved solution from -171576 to -171881 (6.61 seconds)\n",
      "Cbc0038I Freeing continuous variables gives a solution of -171881\n",
      "Cbc0038I Round again with cutoff of -171884\n",
      "Cbc0038I Reduced cost fixing fixed 13 variables on major pass 2\n",
      "Cbc0038I Pass   2: (6.93 seconds) suminf.   18.70756 (69) obj. -171884 iterations 1123\n",
      "Cbc0038I Pass   3: (6.96 seconds) suminf.   10.14102 (52) obj. -171884 iterations 86\n",
      "Cbc0038I Pass   4: (6.98 seconds) suminf.   10.14102 (52) obj. -171884 iterations 4\n",
      "Cbc0038I Pass   5: (7.00 seconds) suminf.    5.68423 (33) obj. -171884 iterations 87\n",
      "Cbc0038I Pass   6: (7.02 seconds) suminf.    5.68423 (33) obj. -171884 iterations 4\n",
      "Cbc0038I Pass   7: (7.04 seconds) suminf.    2.13298 (16) obj. -171884 iterations 94\n",
      "Cbc0038I Pass   8: (7.06 seconds) suminf.    2.14221 (17) obj. -171884 iterations 15\n",
      "Cbc0038I Pass   9: (7.09 seconds) suminf.    0.81186 (7) obj. -171884 iterations 48\n",
      "Cbc0038I Pass  10: (7.11 seconds) suminf.    0.81186 (7) obj. -171884 iterations 10\n",
      "Cbc0038I Pass  11: (7.13 seconds) suminf.    1.52584 (6) obj. -171884 iterations 90\n",
      "Cbc0038I Pass  12: (7.15 seconds) suminf.    1.36535 (5) obj. -171884 iterations 13\n",
      "Cbc0038I Pass  13: (7.17 seconds) suminf.    0.66045 (4) obj. -171884 iterations 21\n",
      "Cbc0038I Pass  14: (7.19 seconds) suminf.    0.66045 (4) obj. -171884 iterations 11\n",
      "Cbc0038I Pass  15: (7.22 seconds) suminf.    1.36535 (5) obj. -171884 iterations 48\n",
      "Cbc0038I Pass  16: (7.25 seconds) suminf.   10.03755 (42) obj. -171884 iterations 411\n",
      "Cbc0038I Pass  17: (7.27 seconds) suminf.    6.41426 (26) obj. -171884 iterations 114\n",
      "Cbc0038I Pass  18: (7.30 seconds) suminf.    1.93674 (11) obj. -171884 iterations 62\n",
      "Cbc0038I Pass  19: (7.32 seconds) suminf.    1.93674 (11) obj. -171884 iterations 3\n",
      "Cbc0038I Pass  20: (7.34 seconds) suminf.    1.54678 (6) obj. -171884 iterations 75\n",
      "Cbc0038I Pass  21: (7.36 seconds) suminf.    1.39516 (5) obj. -171884 iterations 14\n",
      "Cbc0038I Pass  22: (7.39 seconds) suminf.    0.69643 (5) obj. -171884 iterations 50\n",
      "Cbc0038I Pass  23: (7.41 seconds) suminf.    0.69643 (5) obj. -171884 iterations 10\n",
      "Cbc0038I Pass  24: (7.43 seconds) suminf.    1.55565 (6) obj. -171884 iterations 42\n",
      "Cbc0038I Pass  25: (7.47 seconds) suminf.    9.35520 (37) obj. -171884 iterations 370\n",
      "Cbc0038I Pass  26: (7.49 seconds) suminf.    5.26849 (22) obj. -171884 iterations 122\n",
      "Cbc0038I Pass  27: (7.52 seconds) suminf.    2.07044 (7) obj. -171884 iterations 43\n",
      "Cbc0038I Pass  28: (7.53 seconds) suminf.    2.07044 (7) obj. -171884 iterations 7\n",
      "Cbc0038I Pass  29: (7.56 seconds) suminf.    1.20384 (6) obj. -171884 iterations 18\n",
      "Cbc0038I Pass  30: (7.58 seconds) suminf.    1.20384 (6) obj. -171884 iterations 4\n",
      "Cbc0038I Pass  31: (7.60 seconds) suminf.    1.63853 (7) obj. -171884 iterations 46\n",
      "Cbc0038I No solution found this major pass\n",
      "Cbc0038I Before mini branch and bound, 8346 integers at bound fixed and 20388 continuous\n",
      "Cbc0038I Full problem 26777 rows 35703 columns, reduced to 22 rows 35 columns\n",
      "Cbc0038I Mini branch and bound improved solution from -171881 to -171887 (7.73 seconds)\n",
      "Cbc0038I Freeing continuous variables gives a solution of -171887\n",
      "Cbc0038I Round again with cutoff of -171890\n",
      "Cbc0038I Reduced cost fixing fixed 21 variables on major pass 3\n",
      "Cbc0038I Pass  31: (7.82 seconds) suminf.   20.41251 (76) obj. -171890 iterations 54\n",
      "Cbc0038I Pass  32: (7.85 seconds) suminf.   13.84461 (62) obj. -171890 iterations 41\n",
      "Cbc0038I Pass  33: (7.87 seconds) suminf.   13.84461 (62) obj. -171890 iterations 3\n",
      "Cbc0038I Pass  34: (7.89 seconds) suminf.    7.01513 (39) obj. -171890 iterations 114\n",
      "Cbc0038I Pass  35: (7.91 seconds) suminf.    7.01513 (39) obj. -171890 iterations 3\n",
      "Cbc0038I Pass  36: (7.93 seconds) suminf.    4.73621 (30) obj. -171890 iterations 46\n",
      "Cbc0038I Pass  37: (7.95 seconds) suminf.    4.73621 (30) obj. -171890 iterations 3\n",
      "Cbc0038I Pass  38: (7.98 seconds) suminf.    1.60385 (6) obj. -171890 iterations 150\n",
      "Cbc0038I Pass  39: (8.00 seconds) suminf.    1.45224 (5) obj. -171890 iterations 14\n",
      "Cbc0038I Pass  40: (8.03 seconds) suminf.    0.77053 (7) obj. -171890 iterations 59\n",
      "Cbc0038I Pass  41: (8.05 seconds) suminf.    0.75627 (7) obj. -171890 iterations 7\n",
      "Cbc0038I Pass  42: (8.07 seconds) suminf.    1.55316 (6) obj. -171890 iterations 68\n",
      "Cbc0038I Pass  43: (8.09 seconds) suminf.    1.40154 (5) obj. -171890 iterations 14\n",
      "Cbc0038I Pass  44: (8.11 seconds) suminf.    0.70444 (5) obj. -171890 iterations 42\n",
      "Cbc0038I Pass  45: (8.13 seconds) suminf.    0.70444 (5) obj. -171890 iterations 10\n",
      "Cbc0038I Pass  46: (8.16 seconds) suminf.    1.56204 (6) obj. -171890 iterations 75\n",
      "Cbc0038I Pass  47: (8.19 seconds) suminf.    6.97812 (29) obj. -171890 iterations 401\n",
      "Cbc0038I Pass  48: (8.22 seconds) suminf.    3.52861 (16) obj. -171890 iterations 105\n",
      "Cbc0038I Pass  49: (8.24 seconds) suminf.    2.02772 (7) obj. -171890 iterations 98\n",
      "Cbc0038I Pass  50: (8.26 seconds) suminf.    1.87611 (6) obj. -171890 iterations 14\n",
      "Cbc0038I Pass  51: (8.29 seconds) suminf.    0.79391 (6) obj. -171890 iterations 28\n",
      "Cbc0038I Pass  52: (8.30 seconds) suminf.    0.76813 (6) obj. -171890 iterations 5\n",
      "Cbc0038I Pass  53: (8.33 seconds) suminf.    1.59772 (6) obj. -171890 iterations 54\n",
      "Cbc0038I Pass  54: (8.35 seconds) suminf.    1.44611 (5) obj. -171890 iterations 14\n",
      "Cbc0038I Pass  55: (8.37 seconds) suminf.    0.78268 (6) obj. -171890 iterations 26\n",
      "Cbc0038I Pass  56: (8.39 seconds) suminf.    0.76180 (6) obj. -171890 iterations 5\n",
      "Cbc0038I Pass  57: (8.41 seconds) suminf.    1.59772 (6) obj. -171890 iterations 52\n",
      "Cbc0038I Pass  58: (8.43 seconds) suminf.    1.44611 (5) obj. -171890 iterations 14\n",
      "Cbc0038I Pass  59: (8.45 seconds) suminf.    0.79391 (6) obj. -171890 iterations 32\n",
      "Cbc0038I Pass  60: (8.47 seconds) suminf.    0.76813 (6) obj. -171890 iterations 5\n",
      "Cbc0038I No solution found this major pass\n",
      "Cbc0038I Before mini branch and bound, 8531 integers at bound fixed and 20477 continuous\n",
      "Cbc0038I Full problem 26777 rows 35703 columns, reduced to 22 rows 35 columns\n",
      "Cbc0038I Mini branch and bound did not improve solution (8.55 seconds)\n",
      "Cbc0038I After 8.55 seconds - Feasibility pump exiting with objective of -171887 - took 2.15 seconds\n",
      "Cbc0012I Integer solution of -171886.98 found by feasibility pump after 0 iterations and 0 nodes (8.77 seconds)\n",
      "Cbc0011I Exiting as integer gap of 15.301188 less than 1e-10 or 0.01%\n",
      "Cbc0001I Search completed - best objective -171886.9845701823, took 0 iterations and 0 nodes (8.78 seconds)\n",
      "Cbc0035I Maximum depth 0, 0 variables fixed on reduced cost\n",
      "Total time (CPU seconds):       9.30   (Wallclock seconds):       9.39\n",
      "\n"
     ]
    }
   ],
   "source": [
    "cbc_model = create_mip_model(nsw_energy_price, CBC)"
   ]
  },
  {
   "cell_type": "markdown",
   "id": "5ab89087-16cf-4603-872c-5517479afb43",
   "metadata": {},
   "source": [
    "## Benchmarking"
   ]
  },
  {
   "cell_type": "code",
   "execution_count": 7,
   "id": "c527ec69-4350-40a9-ad37-de8dc6ece791",
   "metadata": {},
   "outputs": [
    {
     "name": "stdout",
     "output_type": "stream",
     "text": [
      "Set parameter Username\n",
      "Academic license - for non-commercial use only - expires 2023-06-09\n",
      "Set parameter Username\n",
      "Academic license - for non-commercial use only - expires 2023-06-09\n",
      "Set parameter Username\n",
      "Academic license - for non-commercial use only - expires 2023-06-09\n",
      "Set parameter Username\n",
      "Academic license - for non-commercial use only - expires 2023-06-09\n",
      "Set parameter Username\n",
      "Academic license - for non-commercial use only - expires 2023-06-09\n",
      "Set parameter Username\n",
      "Academic license - for non-commercial use only - expires 2023-06-09\n",
      "Set parameter Username\n",
      "Academic license - for non-commercial use only - expires 2023-06-09\n",
      "Set parameter Username\n",
      "Academic license - for non-commercial use only - expires 2023-06-09\n",
      "Set parameter Username\n",
      "Academic license - for non-commercial use only - expires 2023-06-09\n",
      "Set parameter Username\n",
      "Academic license - for non-commercial use only - expires 2023-06-09\n",
      "1.6041008333995705\n"
     ]
    }
   ],
   "source": [
    "t_g = timeit.timeit(\n",
    "    lambda: create_mip_model(nsw_energy_price, GUROBI, verbose=0), number=10\n",
    ")\n",
    "print(t_g / 10)"
   ]
  },
  {
   "cell_type": "code",
   "execution_count": 8,
   "id": "af7ef867-7787-4b76-937d-c0843cc91d78",
   "metadata": {},
   "outputs": [
    {
     "name": "stdout",
     "output_type": "stream",
     "text": [
      "10.111563905701042\n"
     ]
    }
   ],
   "source": [
    "t_cbc = timeit.timeit(\n",
    "    lambda: create_mip_model(nsw_energy_price, CBC, verbose=0), number=10\n",
    ")\n",
    "print(t_cbc / 10)"
   ]
  },
  {
   "cell_type": "markdown",
   "id": "8cf7cb2d-2bd1-4970-ac7c-3b3472bb259a",
   "metadata": {},
   "source": [
    "## Solution"
   ]
  },
  {
   "cell_type": "code",
   "execution_count": 9,
   "id": "be6a946f-53e0-4d13-b690-207dadbf5a06",
   "metadata": {},
   "outputs": [
    {
     "name": "stdout",
     "output_type": "stream",
     "text": [
      "gurobi optimal solution cost 171880.66124949063 found\n",
      "cbc optimal solution cost 171886.98462167615 found\n"
     ]
    }
   ],
   "source": [
    "if model.status == OptimizationStatus.OPTIMAL:\n",
    "    print(\"gurobi optimal solution cost {} found\".format(model.objective_value))\n",
    "    print(\"cbc optimal solution cost {} found\".format(cbc_model.objective_value))"
   ]
  },
  {
   "cell_type": "code",
   "execution_count": 10,
   "id": "296ad879-7c1d-407a-928c-fcdfa0ab85de",
   "metadata": {},
   "outputs": [],
   "source": [
    "charge_mw = []\n",
    "discharge_mw = []\n",
    "charge_state = []\n",
    "for t in range(len(nsw_energy_price)):\n",
    "    charge_mw.append(model.var_by_name(f\"charge_mw[{t}]\").x)\n",
    "    discharge_mw.append(model.var_by_name(f\"discharge_mw[{t}]\").x)\n",
    "    charge_state.append(model.var_by_name(f\"charge_state[{t}]\").x)"
   ]
  },
  {
   "cell_type": "code",
   "execution_count": 11,
   "id": "4890482b-c131-4bbd-a488-61a90275647c",
   "metadata": {},
   "outputs": [],
   "source": [
    "soln = pd.DataFrame(\n",
    "    {\n",
    "        \"charge_mw\": charge_mw,\n",
    "        \"discharge_mw\": discharge_mw,\n",
    "        \"charge_state\": charge_state,\n",
    "    },\n",
    "    index=nsw_energy_price.index,\n",
    ")"
   ]
  },
  {
   "cell_type": "code",
   "execution_count": 12,
   "id": "0dcf1c94-cfd1-486e-84ee-4d9af9801e63",
   "metadata": {},
   "outputs": [
    {
     "data": {
      "text/html": [
       "<div>\n",
       "<style scoped>\n",
       "    .dataframe tbody tr th:only-of-type {\n",
       "        vertical-align: middle;\n",
       "    }\n",
       "\n",
       "    .dataframe tbody tr th {\n",
       "        vertical-align: top;\n",
       "    }\n",
       "\n",
       "    .dataframe thead th {\n",
       "        text-align: right;\n",
       "    }\n",
       "</style>\n",
       "<table border=\"1\" class=\"dataframe\">\n",
       "  <thead>\n",
       "    <tr style=\"text-align: right;\">\n",
       "      <th></th>\n",
       "      <th>charge_mw</th>\n",
       "      <th>discharge_mw</th>\n",
       "      <th>charge_state</th>\n",
       "    </tr>\n",
       "    <tr>\n",
       "      <th>datetime</th>\n",
       "      <th></th>\n",
       "      <th></th>\n",
       "      <th></th>\n",
       "    </tr>\n",
       "  </thead>\n",
       "  <tbody>\n",
       "  </tbody>\n",
       "</table>\n",
       "</div>"
      ],
      "text/plain": [
       "Empty DataFrame\n",
       "Columns: [charge_mw, discharge_mw, charge_state]\n",
       "Index: []"
      ]
     },
     "execution_count": 12,
     "metadata": {},
     "output_type": "execute_result"
    }
   ],
   "source": [
    "soln.loc[(soln[\"charge_mw\"] > 0) & (soln[\"discharge_mw\"] > 0)]"
   ]
  },
  {
   "cell_type": "code",
   "execution_count": 13,
   "id": "2ab5f524-ed36-4dd3-b117-302e10da135c",
   "metadata": {},
   "outputs": [
    {
     "data": {
      "text/plain": [
       "Text(0, 0.5, 'MW')"
      ]
     },
     "execution_count": 13,
     "metadata": {},
     "output_type": "execute_result"
    },
    {
     "data": {
      "image/png": "[encoded data removed]",
      "text/plain": [
       "<Figure size 640x480 with 1 Axes>"
      ]
     },
     "metadata": {},
     "output_type": "display_data"
    }
   ],
   "source": [
    "p = plt.scatter(nsw_energy_price, soln[\"charge_mw\"], color=\"orange\")\n",
    "plt.scatter(nsw_energy_price, soln[\"discharge_mw\"], color=\"blue\")\n",
    "plt.xlabel(\"Price ($/MWh)\")\n",
    "plt.ylabel(\"MW\")"
   ]
  },
  {
   "cell_type": "code",
   "execution_count": 14,
   "id": "4c9c21e3-2b92-40b1-8a0a-3357c36d8602",
   "metadata": {},
   "outputs": [
    {
     "data": {
      "text/plain": [
       "Text(0, 0.5, 'charge state')"
      ]
     },
     "execution_count": 14,
     "metadata": {},
     "output_type": "execute_result"
    },
    {
     "data": {
      "image/png": "[encoded data removed]",
      "text/plain": [
       "<Figure size 640x480 with 1 Axes>"
      ]
     },
     "metadata": {},
     "output_type": "display_data"
    }
   ],
   "source": [
    "plt.scatter(nsw_energy_price, soln[\"charge_state\"])\n",
    "plt.xlabel(\"Price ($/MWh)\")\n",
    "plt.ylabel(\"charge state\")"
   ]
  }
 ],
 "metadata": {
  "kernelspec": {
   "display_name": "battery-optimisation-benchmarking",
   "language": "python",
   "name": "battery-optimisation-benchmarking"
  },
  "language_info": {
   "codemirror_mode": {
    "name": "ipython",
    "version": 3
   },
   "file_extension": ".py",
   "mimetype": "text/x-python",
   "name": "python",
   "nbconvert_exporter": "python",
   "pygments_lexer": "ipython3",
   "version": "3.10.6"
  }
 },
 "nbformat": 4,
 "nbformat_minor": 5
}
