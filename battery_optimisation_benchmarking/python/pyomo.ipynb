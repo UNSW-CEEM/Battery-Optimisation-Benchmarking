{
 "cells": [
  {
   "cell_type": "markdown",
   "id": "dc5faeba-75ca-4806-b8bc-7aa2ed84926e",
   "metadata": {},
   "source": [
    "# pyomo Battery Optimisation"
   ]
  },
  {
   "cell_type": "code",
   "execution_count": 1,
   "id": "33b627ea-5f6f-4477-9b50-724ad5c08af1",
   "metadata": {},
   "outputs": [],
   "source": [
    "from pathlib import Path\n",
    "from datetime import timedelta\n",
    "import timeit\n",
    "\n",
    "import pyomo.environ as pyo\n",
    "import numpy as np\n",
    "import pandas as pd\n",
    "import xarray as xr\n",
    "import matplotlib.pyplot as plt"
   ]
  },
  {
   "cell_type": "code",
   "execution_count": 2,
   "id": "72477e5a-91e7-4020-99cf-3ef9df74ef3d",
   "metadata": {},
   "outputs": [
    {
     "data": {
      "text/html": [
       "\n",
       "                <script type=\"application/javascript\" id=\"jupyter_black\">\n",
       "                (function() {\n",
       "                    if (window.IPython === undefined) {\n",
       "                        return\n",
       "                    }\n",
       "                    var msg = \"WARNING: it looks like you might have loaded \" +\n",
       "                        \"jupyter_black in a non-lab notebook with \" +\n",
       "                        \"`is_lab=True`. Please double check, and if \" +\n",
       "                        \"loading with `%load_ext` please review the README!\"\n",
       "                    console.log(msg)\n",
       "                    alert(msg)\n",
       "                })()\n",
       "                </script>\n",
       "                "
      ],
      "text/plain": [
       "<IPython.core.display.HTML object>"
      ]
     },
     "metadata": {},
     "output_type": "display_data"
    }
   ],
   "source": [
    "%load_ext jupyter_black"
   ]
  },
  {
   "cell_type": "markdown",
   "id": "b21c9360-155d-41b2-a163-c2d9574ab019",
   "metadata": {
    "tags": []
   },
   "source": [
    "## NSW Energy Price Dec 2021"
   ]
  },
  {
   "cell_type": "code",
   "execution_count": 3,
   "id": "6f01dbfc-8dc5-476d-87a8-500ddda24578",
   "metadata": {},
   "outputs": [
    {
     "data": {
      "text/plain": [
       "<AxesSubplot: xlabel='datetime'>"
      ]
     },
     "execution_count": 3,
     "metadata": {},
     "output_type": "execute_result"
    },
    {
     "data": {
      "image/png": "[encoded data removed]",
      "text/plain": [
       "<Figure size 640x480 with 1 Axes>"
      ]
     },
     "metadata": {},
     "output_type": "display_data"
    }
   ],
   "source": [
    "df = pd.read_parquet(Path.cwd().parent / \"data\")\n",
    "df[\"SETTLEMENTDATE\"] = pd.to_datetime(df[\"SETTLEMENTDATE\"])\n",
    "df = df.rename(columns={\"SETTLEMENTDATE\": \"datetime\", \"RRP\": \"energy_price\"})\n",
    "df = df.query(\"INTERVENTION==0 and REGIONID=='NSW1'\")\n",
    "nsw_energy_price = df.set_index(\"datetime\")[\"energy_price\"]\n",
    "nsw_energy_price.plot()"
   ]
  },
  {
   "cell_type": "markdown",
   "id": "10a7f108-b059-431d-aab5-32536a13b5c8",
   "metadata": {},
   "source": [
    "## Formulating the problem\n",
    "\n",
    "Our mixed-integer linear program (MILP) formulation has one binary variable:\n",
    "\n",
    "\\begin{aligned}\n",
    "\\max_{t} \\quad & \\sum_{t=0}^T{\\tau\\lambda_t(p_t-q_t)}\\\\\n",
    "\\textrm{s.t.} \\quad & u_t \\in \\{0,1\\}    \\\\\n",
    "& 0 \\leq p_t \\leq \\bar{p}\\\\\n",
    "& 0 \\leq q_t \\leq \\bar{p} \\\\\n",
    "& p_t - \\bar{p}\\left(1-u_t\\right) \\leq 0\\\\\n",
    "& q_t - \\bar{p}u_t \\leq 0\\\\\n",
    "& \\underline{e} \\leq e_t \\leq \\bar{e}    \\\\\n",
    "& e_t-e_{t-1}- \\left( q_t\\eta_{charge}\\tau\\right)+\\frac{p_t\\tau}{\\eta_{discharge}} = 0\\\\\n",
    "& e_0 = 0.5\\bar{e}\\\\\n",
    "\\end{aligned}\n",
    "\n",
    "where:\n",
    "- $\\tau=\\frac{1}{12} \\textrm{hours}$\n",
    "- $p_t$ corresponds to MW discharge at time $t$\n",
    "- $q_t$ corresponds to MW charge at time $t$\n",
    "- $u_t=1$ indicates charging, $u_t=0$ indicates discharging (*charge state*)\n",
    "- $\\bar{p}$ corresponds to the max power capacity in MW\n",
    "- $\\underline{e}$ and $\\bar{e}$ corresponds to minimum and maximum state-of-charge limits, respectively\n",
    "- $\\lambda_t$ corresponds to the energy price in $/MWh at time $t$\n",
    "- $\\eta$ corresponds to efficiency (one term for charging and one term for discharging)"
   ]
  },
  {
   "cell_type": "code",
   "execution_count": 4,
   "id": "1aa7f929-c1ad-4fc8-af70-eb24fa9f26a6",
   "metadata": {},
   "outputs": [],
   "source": [
    "def create_pyomo_model(nsw_energy_price: pd.DataFrame, solver: str, verbose=True):\n",
    "    power_cap = 30.0  # MW\n",
    "    energy_cap = 30.0  # MWh\n",
    "    soc_lower_limit = 0.1 * energy_cap  # MWh\n",
    "    soc_upper_limit = 0.9 * energy_cap  # MWh\n",
    "    charge_eff = 0.9  # unitless\n",
    "    discharge_eff = 0.9  # unitless\n",
    "    tau = 5.0 / 60.0  # minutes per hour\n",
    "    # initial conditions\n",
    "    initial_soc_mwh = 0.5 * energy_cap  # MWh\n",
    "\n",
    "    m = pyo.ConcreteModel()\n",
    "\n",
    "    # sets\n",
    "    m.t = pyo.Set(initialize=range(len(nsw_energy_price)))\n",
    "\n",
    "    # variables\n",
    "    m.discharge_mw = pyo.Var(m.t, bounds=(0.0, power_cap))\n",
    "    m.charge_mw = pyo.Var(m.t, bounds=(0.0, power_cap))\n",
    "    m.charge_state = pyo.Var(m.t, domain=pyo.Binary)\n",
    "    m.soc_mwh = pyo.Var(m.t, bounds=(soc_lower_limit, soc_upper_limit))\n",
    "\n",
    "    # state of operation constraints\n",
    "    def dischargeopRule(m, t):\n",
    "        return m.discharge_mw[t] - power_cap * (1 - m.charge_state[t]) <= 0.0\n",
    "\n",
    "    def chargeopRule(m, t):\n",
    "        return m.charge_mw[t] - power_cap * m.charge_state[t] <= 0.0\n",
    "\n",
    "    m.dischargeRule = pyo.Constraint(m.t, rule=dischargeopRule)\n",
    "    m.chargeRule = pyo.Constraint(m.t, rule=chargeopRule)\n",
    "    # intertemporal energy balance constraints\n",
    "    def intertempSoCRule(m, t):\n",
    "        if t > 0:\n",
    "            return (\n",
    "                m.soc_mwh[t]\n",
    "                - m.soc_mwh[t - 1]\n",
    "                - m.charge_mw[t] * charge_eff * tau\n",
    "                + m.discharge_mw[t] / discharge_eff * tau\n",
    "                == 0.0\n",
    "            )\n",
    "        return pyo.Constraint.Skip\n",
    "\n",
    "    m.intertempSoCRule = pyo.Constraint(m.t, rule=intertempSoCRule)\n",
    "    # initial SoC constraint\n",
    "    def initialSoCRule(m):\n",
    "        return m.soc_mwh[0] == 0.5 * energy_cap\n",
    "\n",
    "    m.initialSoCRule = pyo.Constraint(rule=initialSoCRule)\n",
    "    # objective - add negative sign as linopy only permits minimisation\n",
    "    m.obj = pyo.Objective(\n",
    "        expr=sum(\n",
    "            nsw_energy_price[t] * tau * (m.discharge_mw[t] - m.charge_mw[t])\n",
    "            for t in m.t\n",
    "        ),\n",
    "        sense=pyo.maximize,\n",
    "    )\n",
    "    if not verbose:\n",
    "        pyo.SolverFactory(solver).solve(m, tee=False)\n",
    "    else:\n",
    "        pyo.SolverFactory(solver).solve(m).write()\n",
    "    return m"
   ]
  },
  {
   "cell_type": "code",
   "execution_count": 5,
   "id": "d60119b9-2bb4-490c-9a8f-0336acc499b4",
   "metadata": {},
   "outputs": [
    {
     "name": "stdout",
     "output_type": "stream",
     "text": [
      "# ==========================================================\n",
      "# = Solver Results                                         =\n",
      "# ==========================================================\n",
      "# ----------------------------------------------------------\n",
      "#   Problem Information\n",
      "# ----------------------------------------------------------\n",
      "Problem: \n",
      "- Name: x35713\n",
      "  Lower bound: 171880.66124949063\n",
      "  Upper bound: 171894.28923584093\n",
      "  Number of objectives: 1\n",
      "  Number of constraints: 26785\n",
      "  Number of variables: 35713\n",
      "  Number of binary variables: 8928\n",
      "  Number of integer variables: 8928\n",
      "  Number of continuous variables: 26785\n",
      "  Number of nonzeros: 71422\n",
      "  Sense: maximize\n",
      "# ----------------------------------------------------------\n",
      "#   Solver Information\n",
      "# ----------------------------------------------------------\n",
      "Solver: \n",
      "- Status: ok\n",
      "  Return code: 0\n",
      "  Message: Model was solved to optimality (subject to tolerances), and an optimal solution is available.\n",
      "  Termination condition: optimal\n",
      "  Termination message: Model was solved to optimality (subject to tolerances), and an optimal solution is available.\n",
      "  Wall time: 2.264719009399414\n",
      "  Error rc: 0\n",
      "  Time: 2.552626848220825\n",
      "# ----------------------------------------------------------\n",
      "#   Solution Information\n",
      "# ----------------------------------------------------------\n",
      "Solution: \n",
      "- number of solutions: 0\n",
      "  number of solutions displayed: 0\n"
     ]
    }
   ],
   "source": [
    "model = create_pyomo_model(nsw_energy_price, \"gurobi\")"
   ]
  },
  {
   "cell_type": "code",
   "execution_count": 6,
   "id": "c4192d3a-e956-4df6-9190-af9e6f9bd2d2",
   "metadata": {},
   "outputs": [
    {
     "name": "stdout",
     "output_type": "stream",
     "text": [
      "# ==========================================================\n",
      "# = Solver Results                                         =\n",
      "# ==========================================================\n",
      "# ----------------------------------------------------------\n",
      "#   Problem Information\n",
      "# ----------------------------------------------------------\n",
      "Problem: \n",
      "- Name: unknown\n",
      "  Lower bound: 171886.98462168\n",
      "  Upper bound: 171886.98462168\n",
      "  Number of objectives: 1\n",
      "  Number of constraints: 26779\n",
      "  Number of variables: 35706\n",
      "  Number of binary variables: 8928\n",
      "  Number of integer variables: 8928\n",
      "  Number of nonzeros: 17682\n",
      "  Sense: maximize\n",
      "# ----------------------------------------------------------\n",
      "#   Solver Information\n",
      "# ----------------------------------------------------------\n",
      "Solver: \n",
      "- Status: ok\n",
      "  User time: -1.0\n",
      "  System time: 5.83\n",
      "  Wallclock time: 5.81\n",
      "  Termination condition: optimal\n",
      "  Termination message: Model was solved to optimality (subject to tolerances), and an optimal solution is available.\n",
      "  Statistics: \n",
      "    Branch and bound: \n",
      "      Number of bounded subproblems: 2\n",
      "      Number of created subproblems: 2\n",
      "    Black box: \n",
      "      Number of iterations: 585\n",
      "  Error rc: 0\n",
      "  Time: 5.857731342315674\n",
      "# ----------------------------------------------------------\n",
      "#   Solution Information\n",
      "# ----------------------------------------------------------\n",
      "Solution: \n",
      "- number of solutions: 0\n",
      "  number of solutions displayed: 0\n"
     ]
    }
   ],
   "source": [
    "cbc_model = create_pyomo_model(nsw_energy_price, \"cbc\")"
   ]
  },
  {
   "cell_type": "markdown",
   "id": "5ab89087-16cf-4603-872c-5517479afb43",
   "metadata": {},
   "source": [
    "## Benchmarking"
   ]
  },
  {
   "cell_type": "code",
   "execution_count": 7,
   "id": "c527ec69-4350-40a9-ad37-de8dc6ece791",
   "metadata": {},
   "outputs": [
    {
     "name": "stdout",
     "output_type": "stream",
     "text": [
      "3.7915690093999728\n"
     ]
    }
   ],
   "source": [
    "import logging\n",
    "\n",
    "logging.getLogger(\"pyomo.core\").setLevel(logging.ERROR)\n",
    "t_g = timeit.timeit(\n",
    "    lambda: create_pyomo_model(nsw_energy_price, \"gurobi\", verbose=False), number=10\n",
    ")\n",
    "print(t_g / 10)"
   ]
  },
  {
   "cell_type": "code",
   "execution_count": 8,
   "id": "af7ef867-7787-4b76-937d-c0843cc91d78",
   "metadata": {},
   "outputs": [
    {
     "name": "stdout",
     "output_type": "stream",
     "text": [
      "7.1988731140008895\n"
     ]
    }
   ],
   "source": [
    "t_cbc = timeit.timeit(\n",
    "    lambda: create_pyomo_model(nsw_energy_price, \"cbc\", verbose=False), number=10\n",
    ")\n",
    "print(t_cbc / 10)"
   ]
  },
  {
   "cell_type": "markdown",
   "id": "8cf7cb2d-2bd1-4970-ac7c-3b3472bb259a",
   "metadata": {},
   "source": [
    "## Solution"
   ]
  },
  {
   "cell_type": "code",
   "execution_count": 9,
   "id": "0b1a8319-7ae6-4034-9920-41e743d764d1",
   "metadata": {},
   "outputs": [
    {
     "name": "stdout",
     "output_type": "stream",
     "text": [
      "gurobi optimal solution cost 171880.66124949028 found\n",
      "cbc optimal solution cost 171886.98470044258 found\n"
     ]
    }
   ],
   "source": [
    "print(\"gurobi optimal solution cost {} found\".format(model.obj()))\n",
    "print(\"cbc optimal solution cost {} found\".format(cbc_model.obj()))"
   ]
  },
  {
   "cell_type": "code",
   "execution_count": 10,
   "id": "4890482b-c131-4bbd-a488-61a90275647c",
   "metadata": {},
   "outputs": [],
   "source": [
    "soln = pd.DataFrame(\n",
    "    {\n",
    "        \"charge_mw\": model.charge_mw[:](),\n",
    "        \"discharge_mw\": model.discharge_mw[:](),\n",
    "        \"charge_state\": model.charge_state[:](),\n",
    "    },\n",
    "    index=nsw_energy_price.index,\n",
    ")"
   ]
  },
  {
   "cell_type": "code",
   "execution_count": 11,
   "id": "0dcf1c94-cfd1-486e-84ee-4d9af9801e63",
   "metadata": {},
   "outputs": [
    {
     "data": {
      "text/html": [
       "<div>\n",
       "<style scoped>\n",
       "    .dataframe tbody tr th:only-of-type {\n",
       "        vertical-align: middle;\n",
       "    }\n",
       "\n",
       "    .dataframe tbody tr th {\n",
       "        vertical-align: top;\n",
       "    }\n",
       "\n",
       "    .dataframe thead th {\n",
       "        text-align: right;\n",
       "    }\n",
       "</style>\n",
       "<table border=\"1\" class=\"dataframe\">\n",
       "  <thead>\n",
       "    <tr style=\"text-align: right;\">\n",
       "      <th></th>\n",
       "      <th>charge_mw</th>\n",
       "      <th>discharge_mw</th>\n",
       "      <th>charge_state</th>\n",
       "    </tr>\n",
       "    <tr>\n",
       "      <th>datetime</th>\n",
       "      <th></th>\n",
       "      <th></th>\n",
       "      <th></th>\n",
       "    </tr>\n",
       "  </thead>\n",
       "  <tbody>\n",
       "  </tbody>\n",
       "</table>\n",
       "</div>"
      ],
      "text/plain": [
       "Empty DataFrame\n",
       "Columns: [charge_mw, discharge_mw, charge_state]\n",
       "Index: []"
      ]
     },
     "execution_count": 11,
     "metadata": {},
     "output_type": "execute_result"
    }
   ],
   "source": [
    "soln.loc[(soln[\"charge_mw\"] > 0) & (soln[\"discharge_mw\"] > 0)]"
   ]
  },
  {
   "cell_type": "code",
   "execution_count": 12,
   "id": "2ab5f524-ed36-4dd3-b117-302e10da135c",
   "metadata": {},
   "outputs": [
    {
     "data": {
      "text/plain": [
       "Text(0, 0.5, 'MW')"
      ]
     },
     "execution_count": 12,
     "metadata": {},
     "output_type": "execute_result"
    },
    {
     "data": {
      "image/png": "[encoded data removed]",
      "text/plain": [
       "<Figure size 640x480 with 1 Axes>"
      ]
     },
     "metadata": {},
     "output_type": "display_data"
    }
   ],
   "source": [
    "p = plt.scatter(nsw_energy_price, soln[\"charge_mw\"], color=\"orange\")\n",
    "plt.scatter(nsw_energy_price, soln[\"discharge_mw\"], color=\"blue\")\n",
    "plt.xlabel(\"Price ($/MWh)\")\n",
    "plt.ylabel(\"MW\")"
   ]
  },
  {
   "cell_type": "code",
   "execution_count": 13,
   "id": "4c9c21e3-2b92-40b1-8a0a-3357c36d8602",
   "metadata": {},
   "outputs": [
    {
     "data": {
      "text/plain": [
       "Text(0, 0.5, 'charge state')"
      ]
     },
     "execution_count": 13,
     "metadata": {},
     "output_type": "execute_result"
    },
    {
     "data": {
      "image/png": "[encoded data removed]",
      "text/plain": [
       "<Figure size 640x480 with 1 Axes>"
      ]
     },
     "metadata": {},
     "output_type": "display_data"
    }
   ],
   "source": [
    "plt.scatter(nsw_energy_price, soln[\"charge_state\"])\n",
    "plt.xlabel(\"Price ($/MWh)\")\n",
    "plt.ylabel(\"charge state\")"
   ]
  }
 ],
 "metadata": {
  "kernelspec": {
   "display_name": "battery-optimisation-benchmarking",
   "language": "python",
   "name": "battery-optimisation-benchmarking"
  },
  "language_info": {
   "codemirror_mode": {
    "name": "ipython",
    "version": 3
   },
   "file_extension": ".py",
   "mimetype": "text/x-python",
   "name": "python",
   "nbconvert_exporter": "python",
   "pygments_lexer": "ipython3",
   "version": "3.10.6"
  }
 },
 "nbformat": 4,
 "nbformat_minor": 5
}
